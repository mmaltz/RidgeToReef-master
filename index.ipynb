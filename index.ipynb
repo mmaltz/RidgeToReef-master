{
 "cells": [
  {
   "cell_type": "markdown",
   "metadata": {},
   "source": [
    "# Climate Variability, Food Security, and Farmer Decision Making\n",
    "\n",
    "Some introduction text.\n",
    "\n",
    "[Background & Context](Background.ipynb)\n",
    "\n",
    "### External Resources\n",
    "\n",
    "* Other\n",
    "* Readings\n",
    "* Or\n",
    "* Articles\n"
   ]
  },
  {
   "cell_type": "markdown",
   "metadata": {},
   "source": [
    "## Objectives\n",
    "\n",
    "(what ideas we are going to explore)\n",
    "\n",
    "* List\n",
    "* Of\n",
    "* Activity\n",
    "* Objectives\n"
   ]
  },
  {
   "cell_type": "markdown",
   "metadata": {},
   "source": [
    "## Learning Goals\n",
    "\n",
    "(what you will be able to do)\n",
    "\n",
    "* List \n",
    "* Of \n",
    "* Learning \n",
    "* Goals\n"
   ]
  },
  {
   "cell_type": "markdown",
   "metadata": {},
   "source": [
    "## Activity Outline\n",
    "\n",
    "Description of activity"
   ]
  },
  {
   "cell_type": "markdown",
   "metadata": {},
   "source": [
    "### Chapter 0 - Introduction to Python and Data Analysis in Pandas\n",
    "\n",
    "The materials in Chapter 0 are to be completed before we begin Module 1. Students with no prior experience in python or pandas will want to review these materials, as well as some of the links provided in the tutorials for additional information.\n",
    "\n",
    "[Chapter 0 - Python and Pandas Tutorial](chapters/Chapter 0.ipynb)"
   ]
  },
  {
   "cell_type": "markdown",
   "metadata": {},
   "source": [
    "### Chapter 1\n",
    "\n",
    "Description of chapter 1\n",
    "\n",
    "[Chapter 1](chapters/Chapter 1.ipynb)"
   ]
  },
  {
   "cell_type": "markdown",
   "metadata": {},
   "source": [
    "### Chapter 2\n",
    "\n",
    "Description of chapter 2\n",
    "\n",
    "[Chapter 2](chapters/Chapter 2.ipynb)"
   ]
  },
  {
   "cell_type": "markdown",
   "metadata": {},
   "source": [
    "### Chapter 3\n",
    "\n",
    "Description of chapter 3\n",
    "[Chapter 3](chapters/Chapter 3.ipynb)"
   ]
  },
  {
   "cell_type": "markdown",
   "metadata": {},
   "source": [
    "### Chapter 4\n",
    "\n",
    "Description of chapter 4\n",
    "[Chapter 4](chapters/Chapter 4.ipynb)"
   ]
  }
 ],
 "metadata": {
  "kernelspec": {
   "display_name": "Python 3",
   "language": "python",
   "name": "python3"
  },
  "language_info": {
   "codemirror_mode": {
    "name": "ipython",
    "version": 3
   },
   "file_extension": ".py",
   "mimetype": "text/x-python",
   "name": "python",
   "nbconvert_exporter": "python",
   "pygments_lexer": "ipython3",
   "version": "3.6.5"
  }
 },
 "nbformat": 4,
 "nbformat_minor": 2
}
