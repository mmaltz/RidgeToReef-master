{
 "cells": [
  {
   "cell_type": "markdown",
   "metadata": {},
   "source": [
    "# Chapter 3: Simulating Impacts of Rainfall Variability on Household Food Security\n",
    "\n",
    " [⬅️ Previous Chapter](Chapter 2.ipynb)     [➡️ Next Chapter](Chapter 4.ipynb)\n",
    "\n",
    "\n",
    "## Chapter Objectives\n",
    "\n",
    "* List\n",
    "* Of \n",
    "* Things\n",
    "* We\n",
    "* Will\n",
    "* Learn"
   ]
  },
  {
   "cell_type": "code",
   "execution_count": null,
   "metadata": {},
   "outputs": [],
   "source": []
  }
 ],
 "metadata": {
  "kernelspec": {
   "display_name": "Python 3",
   "language": "python",
   "name": "python3"
  },
  "language_info": {
   "codemirror_mode": {
    "name": "ipython",
    "version": 3
   },
   "file_extension": ".py",
   "mimetype": "text/x-python",
   "name": "python",
   "nbconvert_exporter": "python",
   "pygments_lexer": "ipython3",
   "version": "3.6.4"
  }
 },
 "nbformat": 4,
 "nbformat_minor": 2
}
