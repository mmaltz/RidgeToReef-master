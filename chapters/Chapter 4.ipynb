{
 "cells": [
  {
   "cell_type": "markdown",
   "metadata": {},
   "source": [
    "# Chapter 4: Integrating Social and Environmental Data in Coupled Natural-Human Systems\n",
    "\n",
    "[⬅️ Previous Chapter](Chapter 3.ipynb)     \n",
    "\n",
    "Farmers make a plethora of important decisions that can determine the success of a growing season and have serious consequences for their livelihood. These decisions are subject to a variety of influences such as environmental variability, social norms, government policy, and socio-economic circumstances. In this module, we will explore data showing rainfall variability and variability in planting dates, and discuss possible hypotheses for research.\n",
    "\n",
    "The WAVES lab at UCSB installed 10 crop-monitoring weather stations in Kenya in 2015 and an additional 60 in 2018. These [in-field sensors](https://www.arable.com) go beyond traditional weather measurements  by providing spectral data to sense photosynthetic activity, acoustic detection of precipitation, net radiometry for energy budgets, IR thermometers and telemetry to build advanced analytics and precision agriculture tools. For this activity, we will use data from an older generation of the devices to analyze rainfall. \n",
    "\n",
    "Where we work in the Rift Valley Province Mt. Kenya region (0.0˚N, 37.0˚E) is characterized by equatorial rainfall with a bimodal rainfall regime which peaks in the boreal spring (roughly March to May; \"long rains\") and boreal automumn (October and November: \"short rains\").  \n",
    "\n",
    "To read more about precipitation trends around Mt. Kenya see [Schmocker et al. 2016](https://agupubs.onlinelibrary.wiley.com/doi/10.1002/joc.4438).\n",
    "\n",
    "\n",
    "## Chapter Objectives\n",
    "\n",
    "* Create functions using python to seperate rainy seasons (define rainy seasons using functions)\n",
    "* Visualize distributions of planting seasons -- check out # of farmers with one, two vs. three plantings. What was the most frequently planted week? Visualize variability in planting dates\n",
    "* Hypothesize what social and environmental factors alter farmer decisions, and what impact that has on production\n",
    "* Calculate likelihood of premature maize\n",
    "* Will\n",
    "* Learn"
   ]
  },
  {
   "cell_type": "code",
   "execution_count": null,
   "metadata": {},
   "outputs": [],
   "source": []
  }
 ],
 "metadata": {
  "kernelspec": {
   "display_name": "Python 3",
   "language": "python",
   "name": "python3"
  },
  "language_info": {
   "codemirror_mode": {
    "name": "ipython",
    "version": 3
   },
   "file_extension": ".py",
   "mimetype": "text/x-python",
   "name": "python",
   "nbconvert_exporter": "python",
   "pygments_lexer": "ipython3",
   "version": "3.6.4"
  }
 },
 "nbformat": 4,
 "nbformat_minor": 2
}
