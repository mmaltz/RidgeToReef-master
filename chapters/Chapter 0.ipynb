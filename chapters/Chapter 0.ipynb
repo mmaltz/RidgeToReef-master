{
 "cells": [
  {
   "cell_type": "markdown",
   "metadata": {},
   "source": [
    "# Chapter 0: An introduction to interactive computing using python and pandas\n",
    "\n",
    "[➡️ Next Chapter](Chapter 1.ipynb)\n",
    "\n",
    "This courses uses [Jupyter](http://jupyter.org) notebooks. These notebooks are a web application in which you can create and share documents that contain live code, equations, visualizations as well as text. The ability to include both code and text elements makes these documents ideal for conducting data analysis and describing results. Notebooks can be run, revised, and re-run - an iterative process that allows for exploratory data analysis. \n",
    "\n",
    "Notebooks can run code from a variety of languages, and the name \"Jupyter\" is a loose acronym made up of Julia, Python, and R. While these were the first programming languages Jupyter coudl use, the notebook technology now supports [many other languages](https://github.com/jupyter/jupyter/wiki/Jupyter-kernels). The two most commonly used in Earth and Environmental Sciences are [R](https://www.r-project.org) and [python](https://www.python.org). In our excercises, we will be running python code and relying heavily on a suite of python packages designed for data analysis. This tutorial introduces you to the basis of python, and the most important features of these packages.\n",
    "\n",
    "## Chapter Contents\n",
    "\n",
    "* [Using a Jupyter Notebook & JupyterLab](#using_jupyter)\n",
    "* [Introduction to Python](#using_python)\n",
    "* [Pandas - A python data analysis library](#pandas) \n",
    "* [Where to find help](#getting_help)\n"
   ]
  },
  {
   "cell_type": "markdown",
   "metadata": {},
   "source": [
    "### Using a Jupyter Notebook & JupyterLab <a id='using_jupyter'></a>\n",
    "\n",
    "![alt text](https://cdn-images-1.medium.com/letterbox/266/72/50/50/1*wOHyKy6fl3ltcBMNpCvC6Q.png?source=logoAvatar-lo_VRb79vQwWEoh---95916e268740 \"Logo Title Text 1\")\n",
    "\n",
    "#### How Jupyter works\n",
    "\n",
    "\n",
    "The Jupyter Notebook App is a client that allows you to edit and run your notebooks via a web browser by passing commands and results to/from a server. If the server is hosted locally, the application can be executed without Internet access. Otherwise, the notebooks require internet access to a server in order to run. The two main components of this client/server system are the application dashboard (client) and an execution kernel (server). \n",
    "\n",
    "A kernel is a program that runs and introspects the user’s code. The Jupyter Notebook App we will be using has a kernel for Python code, but - as noted above - there are also kernels available for many languages.\n",
    "\n",
    "The dashboard of the application (which runs in a web browser) shows you the notebook documents that you have made, and  allows you to manage the kernel (restart/reset). \n",
    "\n",
    "Cells are executed using `Control-Enter`, which executes the cell that the cursor is currently in. Other options allow you to add cells and execute groups of cells. Use the `User Interface Tour` in the `Help` menu of any notebook to learn more. The keyboard icon at the far right of the menu bar also contains helpful shortcuts and a list of commands.\n",
    "\n",
    "#### JupyterLab\n",
    "\n",
    "[JupyterLab](https://blog.jupyter.org/jupyterlab-is-ready-for-users-5a6f039b8906) is the latest client-side interface for the Jupyter system. It builds on the Jupyter notebook model by providing an interactive development environment (IDE) for working with notebooks, code and data all in one place. In addition to having full support for Jupyter notebooks, JupyterLab enables you to use text editors, terminals, data file viewers, and other custom components side by side with notebooks in a tabbed work area. Users who have worked with MatLab, or R-Studio will find many of the features of JupyterLab similar. \n"
   ]
  },
  {
   "cell_type": "markdown",
   "metadata": {},
   "source": [
    "## Coding in Python <a id='using_python'></a>\n",
    "\n",
    "[Python](https://en.wikipedia.org/wiki/Python_(programming_language) is a language originally developed in the early 1990s. Relative to other languages, it is focused on readability and simplicity. Python has dynamic typing and automated memory management, making it well-suited for beginners and the rapid development of code. All of these attributes make Python ideal for scientific programming.\n",
    "\n",
    "The philosophy behind Python is contained in the `Zen of Python`, which can be found by executing your first jupyter notebook cell!\n",
    "\n",
    "(place your cursor in the cell below and use `Control-Enter` to execute the cell)"
   ]
  },
  {
   "cell_type": "code",
   "execution_count": 62,
   "metadata": {
    "scrolled": true
   },
   "outputs": [],
   "source": [
    "import this"
   ]
  },
  {
   "cell_type": "markdown",
   "metadata": {},
   "source": [
    "```\n",
    "The Zen of Python, by Tim Peters\n",
    "\n",
    "Beautiful is better than ugly.\n",
    "Explicit is better than implicit.\n",
    "Simple is better than complex.\n",
    "Complex is better than complicated.\n",
    "Flat is better than nested.\n",
    "Sparse is better than dense.\n",
    "Readability counts.\n",
    "Special cases aren't special enough to break the rules.\n",
    "Although practicality beats purity.\n",
    "Errors should never pass silently.\n",
    "Unless explicitly silenced.\n",
    "In the face of ambiguity, refuse the temptation to guess.\n",
    "There should be one-- and preferably only one --obvious way to do it.\n",
    "Although that way may not be obvious at first unless you're Dutch.\n",
    "Now is better than never.\n",
    "Although never is often better than *right* now.\n",
    "If the implementation is hard to explain, it's a bad idea.\n",
    "If the implementation is easy to explain, it may be a good idea.\n",
    "Namespaces are one honking great idea -- let's do more of those!\n",
    "```\n",
    "\n",
    "The code above - while only one line - emphasizes an important part of Python; namely, the use of `import`s to add functionality and extend the programming language. But before we get to that, let's review some of the basics of the python programming language.\n",
    "\n"
   ]
  },
  {
   "cell_type": "markdown",
   "metadata": {},
   "source": [
    "### Python Tutorials <a id=\"additional_tutorials\"></a>\n",
    "\n",
    "There's plenty to cover regarding the use of python. If you're new to this language, you may want to follow up with some of the following tutorials:\n",
    "\n",
    "* [First Steps in Python](01 - First Steps in Python.ipynb)\n",
    "* [Using the print() Function](02 - Using the print Function.ipynb\")\n",
    "* [Data Structures](03 - Data Structures.ipynb)\n",
    "* [Strings](04 - Strings.ipynb)\n",
    "* [Control Statements](05 - Control Statements.ipynb)\n",
    "* [Functions](06 - Functions.ipynb)\n",
    "* [Classes](07 - Classes.ipynb)\n"
   ]
  },
  {
   "cell_type": "markdown",
   "metadata": {},
   "source": [
    "## Pandas <a id='pandas'></a>\n",
    "\n",
    "[Pandas](https://pandas.pydata.org) (\"Python Data Analysis Library\") is a widely used python library that provides tools for data wrangling and analysis. The basis of the Pandas library is that it takes data (such as a `.csv` file or `SQL` database) and creates a _dataframe_: a Python object with rows and columns that looks very similar to tables in other software. With this dataframe, you can perform a variety of tasks from viewing and inspecting the data to plotting, analysis, and exporting, and everything in between.  \n",
    "\n",
    "In the next chapter, you'll learn how to import a `.csv` file using pandas. For now, we'll create our own dataframe following the tutorial in Panda's Read the Docs [10 Minutes to pandas](http://pandas.pydata.org/pandas-docs/version/0.15/10min.html):"
   ]
  },
  {
   "cell_type": "code",
   "execution_count": 85,
   "metadata": {},
   "outputs": [
    {
     "data": {
      "text/html": [
       "<div>\n",
       "<style scoped>\n",
       "    .dataframe tbody tr th:only-of-type {\n",
       "        vertical-align: middle;\n",
       "    }\n",
       "\n",
       "    .dataframe tbody tr th {\n",
       "        vertical-align: top;\n",
       "    }\n",
       "\n",
       "    .dataframe thead th {\n",
       "        text-align: right;\n",
       "    }\n",
       "</style>\n",
       "<table border=\"1\" class=\"dataframe\">\n",
       "  <thead>\n",
       "    <tr style=\"text-align: right;\">\n",
       "      <th></th>\n",
       "      <th>A</th>\n",
       "      <th>B</th>\n",
       "      <th>C</th>\n",
       "      <th>D</th>\n",
       "      <th>E</th>\n",
       "    </tr>\n",
       "  </thead>\n",
       "  <tbody>\n",
       "    <tr>\n",
       "      <th>5</th>\n",
       "      <td>1.0</td>\n",
       "      <td>2018-08-25</td>\n",
       "      <td>8.0</td>\n",
       "      <td>train</td>\n",
       "      <td>foo</td>\n",
       "    </tr>\n",
       "    <tr>\n",
       "      <th>6</th>\n",
       "      <td>1.0</td>\n",
       "      <td>2018-08-26</td>\n",
       "      <td>-7.0</td>\n",
       "      <td>test</td>\n",
       "      <td>foo</td>\n",
       "    </tr>\n",
       "    <tr>\n",
       "      <th>7</th>\n",
       "      <td>1.0</td>\n",
       "      <td>2018-08-27</td>\n",
       "      <td>10.0</td>\n",
       "      <td>train</td>\n",
       "      <td>foo</td>\n",
       "    </tr>\n",
       "    <tr>\n",
       "      <th>8</th>\n",
       "      <td>1.0</td>\n",
       "      <td>2018-08-28</td>\n",
       "      <td>2.0</td>\n",
       "      <td>test</td>\n",
       "      <td>foo</td>\n",
       "    </tr>\n",
       "    <tr>\n",
       "      <th>9</th>\n",
       "      <td>1.0</td>\n",
       "      <td>2018-08-29</td>\n",
       "      <td>4.0</td>\n",
       "      <td>train</td>\n",
       "      <td>foo</td>\n",
       "    </tr>\n",
       "  </tbody>\n",
       "</table>\n",
       "</div>"
      ],
      "text/plain": [
       "     A          B     C      D    E\n",
       "5  1.0 2018-08-25   8.0  train  foo\n",
       "6  1.0 2018-08-26  -7.0   test  foo\n",
       "7  1.0 2018-08-27  10.0  train  foo\n",
       "8  1.0 2018-08-28   2.0   test  foo\n",
       "9  1.0 2018-08-29   4.0  train  foo"
      ]
     },
     "execution_count": 85,
     "metadata": {},
     "output_type": "execute_result"
    }
   ],
   "source": [
    "# Import the some libraries\n",
    "import pandas as pd\n",
    "import numpy as np\n",
    "import matplotlib.pyplot as plt\n",
    "\n",
    "# Create a data dictionary\n",
    "df = pd.DataFrame({  'A' : 1.,\n",
    "                     'B' : pd.date_range('20180820', periods=10),\n",
    "                     'C' : pd.Series([1,-3,5,np.nan,6,8,-7,10,2,4]),\n",
    "                     'D' : pd.Categorical([\"test\",\"train\",\"test\",\"train\",\"test\",\"train\",\"test\",\"train\",\"test\",\"train\"]),\n",
    "                     'E' : 'foo' })\n",
    "\n",
    "# View the data\n",
    "df.head()\n",
    "df.tail()"
   ]
  },
  {
   "cell_type": "code",
   "execution_count": 80,
   "metadata": {},
   "outputs": [
    {
     "data": {
      "text/html": [
       "<div>\n",
       "<style scoped>\n",
       "    .dataframe tbody tr th:only-of-type {\n",
       "        vertical-align: middle;\n",
       "    }\n",
       "\n",
       "    .dataframe tbody tr th {\n",
       "        vertical-align: top;\n",
       "    }\n",
       "\n",
       "    .dataframe thead th {\n",
       "        text-align: right;\n",
       "    }\n",
       "</style>\n",
       "<table border=\"1\" class=\"dataframe\">\n",
       "  <thead>\n",
       "    <tr style=\"text-align: right;\">\n",
       "      <th></th>\n",
       "      <th>A</th>\n",
       "      <th>C</th>\n",
       "    </tr>\n",
       "  </thead>\n",
       "  <tbody>\n",
       "    <tr>\n",
       "      <th>count</th>\n",
       "      <td>10.0</td>\n",
       "      <td>9.000000</td>\n",
       "    </tr>\n",
       "    <tr>\n",
       "      <th>mean</th>\n",
       "      <td>1.0</td>\n",
       "      <td>2.888889</td>\n",
       "    </tr>\n",
       "    <tr>\n",
       "      <th>std</th>\n",
       "      <td>0.0</td>\n",
       "      <td>5.348936</td>\n",
       "    </tr>\n",
       "    <tr>\n",
       "      <th>min</th>\n",
       "      <td>1.0</td>\n",
       "      <td>-7.000000</td>\n",
       "    </tr>\n",
       "    <tr>\n",
       "      <th>25%</th>\n",
       "      <td>1.0</td>\n",
       "      <td>1.000000</td>\n",
       "    </tr>\n",
       "    <tr>\n",
       "      <th>50%</th>\n",
       "      <td>1.0</td>\n",
       "      <td>4.000000</td>\n",
       "    </tr>\n",
       "    <tr>\n",
       "      <th>75%</th>\n",
       "      <td>1.0</td>\n",
       "      <td>6.000000</td>\n",
       "    </tr>\n",
       "    <tr>\n",
       "      <th>max</th>\n",
       "      <td>1.0</td>\n",
       "      <td>10.000000</td>\n",
       "    </tr>\n",
       "  </tbody>\n",
       "</table>\n",
       "</div>"
      ],
      "text/plain": [
       "          A          C\n",
       "count  10.0   9.000000\n",
       "mean    1.0   2.888889\n",
       "std     0.0   5.348936\n",
       "min     1.0  -7.000000\n",
       "25%     1.0   1.000000\n",
       "50%     1.0   4.000000\n",
       "75%     1.0   6.000000\n",
       "max     1.0  10.000000"
      ]
     },
     "execution_count": 80,
     "metadata": {},
     "output_type": "execute_result"
    }
   ],
   "source": [
    "# check out some summary statistics of columns with numeric data types\n",
    "df.describe()"
   ]
  },
  {
   "cell_type": "code",
   "execution_count": 81,
   "metadata": {},
   "outputs": [],
   "source": [
    "# drop rows with any NaN values\n",
    "df = df.dropna()"
   ]
  },
  {
   "cell_type": "code",
   "execution_count": 82,
   "metadata": {},
   "outputs": [
    {
     "data": {
      "text/plain": [
       "0     1.0\n",
       "1    -3.0\n",
       "2     5.0\n",
       "4     6.0\n",
       "5     8.0\n",
       "6    -7.0\n",
       "7    10.0\n",
       "8     2.0\n",
       "9     4.0\n",
       "Name: C, dtype: float64"
      ]
     },
     "execution_count": 82,
     "metadata": {},
     "output_type": "execute_result"
    }
   ],
   "source": [
    "# select a column\n",
    "df['C']"
   ]
  },
  {
   "cell_type": "code",
   "execution_count": 83,
   "metadata": {},
   "outputs": [],
   "source": [
    "# Select values from a single column greater than zero\n",
    "C2 = df[df.C > 0]"
   ]
  },
  {
   "cell_type": "code",
   "execution_count": 84,
   "metadata": {
    "scrolled": true
   },
   "outputs": [
    {
     "data": {
      "text/plain": [
       "Text(0,0.5,'ylabel')"
      ]
     },
     "execution_count": 84,
     "metadata": {},
     "output_type": "execute_result"
    },
    {
     "data": {
      "image/png": "[encoded data removed]",
      "text/plain": [
       "<matplotlib.figure.Figure at 0x1a2305def0>"
      ]
     },
     "metadata": {},
     "output_type": "display_data"
    }
   ],
   "source": [
    "# Make a basic Kernel Density Estimation plot\n",
    "df.plot(x='B',y='C', kind='kde', \n",
    "        title='Basic Kernel Density Plot from Made-up Data', grid=True,\n",
    "        color='darkblue', label='label')\n",
    "plt.xlabel('Xlabel')\n",
    "plt.ylabel('ylabel')"
   ]
  },
  {
   "cell_type": "markdown",
   "metadata": {},
   "source": [
    "## Where to find help <a id=\"getting_help\"></a>\n",
    "\n",
    "Here are some starting points for where to find help as well as how to build skills using python. This is merely the tip of the iceberg!\n",
    "\n",
    "* [Pandas Documentation](https://pandas.pydata.org/pandas-docs/stable/cookbook.html)\n",
    "* [Hitchhiker's Guide to Python](https://docs.python-guide.org)\n",
    "* [StackOverflow](https://stackoverflow.com/questions/tagged/python)\n",
    "* [Towards Data Science](https://towardsdatascience.com/five-python-tricks-you-need-to-learn-today-9dbe03c790ab)\n",
    "* [Pandas Data Snippets](https://medium.com/@msalmon00/helpful-python-code-snippets-for-data-exploration-in-pandas-b7c5aed5ecb9)\n",
    "* [Mode Analytics](https://community.modeanalytics.com/python/tutorial/defining-python-functions/)"
   ]
  }
 ],
 "metadata": {
  "kernelspec": {
   "display_name": "Python 3",
   "language": "python",
   "name": "python3"
  },
  "language_info": {
   "codemirror_mode": {
    "name": "ipython",
    "version": 3
   },
   "file_extension": ".py",
   "mimetype": "text/x-python",
   "name": "python",
   "nbconvert_exporter": "python",
   "pygments_lexer": "ipython3",
   "version": "3.6.5"
  }
 },
 "nbformat": 4,
 "nbformat_minor": 2
}
