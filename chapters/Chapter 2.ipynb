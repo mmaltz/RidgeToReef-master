{
 "cells": [
  {
   "cell_type": "markdown",
   "metadata": {},
   "source": [
    "# Chapter 2: Simulating Stochastic Rainfall Processes\n",
    "\n",
    "Description of Chapter 2.\n",
    "\n",
    "## Chapter Objectives\n",
    "\n",
    "* List\n",
    "* Of \n",
    "* Things\n",
    "* We\n",
    "* Will\n",
    "* Learn"
   ]
  }
 ],
 "metadata": {
  "kernelspec": {
   "display_name": "Python 3",
   "language": "python",
   "name": "python3"
  },
  "language_info": {
   "codemirror_mode": {
    "name": "ipython",
    "version": 3
   },
   "file_extension": ".py",
   "mimetype": "text/x-python",
   "name": "python",
   "nbconvert_exporter": "python",
   "pygments_lexer": "ipython3",
   "version": "3.6.4"
  }
 },
 "nbformat": 4,
 "nbformat_minor": 2
}
